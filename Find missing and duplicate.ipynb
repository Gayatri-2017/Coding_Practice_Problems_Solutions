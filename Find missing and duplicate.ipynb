{
 "cells": [
  {
   "cell_type": "markdown",
   "metadata": {
    "id": "JWWWM_6wtquM"
   },
   "source": [
    "Given a list of randomly sorted continuous integers of uncertain length, random min and random max, \n",
    "one of them is duplicate and one of them is missing. \n",
    "write a function that figure out the missing number and the duplicate number. \n",
    "What is the time complexity and space complexity of your algorithm. \n",
    "e.g [6, 5, 2, 4, 6] → 3 is missing, 6 is duplicate. "
   ]
  },
  {
   "cell_type": "markdown",
   "metadata": {
    "id": "AjlxPtE0hAE4"
   },
   "source": [
    "## Approach 1: Locating missing number using set operations, and duplicate number using Collections.Counter method"
   ]
  },
  {
   "cell_type": "code",
   "execution_count": 4,
   "metadata": {
    "id": "rPoRsYBBg_Mk"
   },
   "outputs": [],
   "source": [
    "import collections\n",
    "def find_dup_missing(arr):\n",
    "    \n",
    "    #find missing number\n",
    "    missing_number = list(set(range(min(arr), max(arr))).difference(set(arr)))[0]\n",
    "\n",
    "    #find duplicate number \n",
    "    duplicate_number = [item for item, count in collections.Counter(arr).items() if(count>1)][0]\n",
    "    \n",
    "    return (duplicate_number, missing_number)\n",
    "\n",
    "assert find_dup_missing([6,5,2,4,6])==(6,3)"
   ]
  },
  {
   "cell_type": "markdown",
   "metadata": {
    "id": "TMUcQImgon3U"
   },
   "source": [
    "Auxiliary Space Complexity = O(n)\n",
    "\n",
    "Time Complexity = O(n)"
   ]
  },
  {
   "cell_type": "markdown",
   "metadata": {
    "id": "wsymEPK_jVOU"
   },
   "source": [
    "## Approach 2: Find duplicate number by maintaining a separate list of elements already present in the list"
   ]
  },
  {
   "cell_type": "code",
   "execution_count": 5,
   "metadata": {
    "id": "Cs-fecaJlM-y"
   },
   "outputs": [],
   "source": [
    "def find_dup_missing(arr):\n",
    "  \n",
    "  #find missing number\n",
    "    for i in range(min(arr),max(arr)+1):\n",
    "        if i not in arr:\n",
    "            missing_number=i\n",
    "            break\n",
    "  \n",
    "  #find duplicate number\n",
    "    seen = []\n",
    "\n",
    "    for x in arr:\n",
    "        if x not in seen:\n",
    "            seen.append(x)\n",
    "        else:\n",
    "            duplicate_number=x\n",
    "            break\n",
    "    return(duplicate_number,missing_number)    \n",
    "\n",
    "assert find_dup_missing([6,5,2,4,6])==(6,3)  "
   ]
  },
  {
   "cell_type": "markdown",
   "metadata": {
    "id": "1Jp-1uAwpDc6"
   },
   "source": [
    "Auxiliary Space Complexity = O(2n) = O(n)\n",
    "\n",
    "Time Complexity = O(n^2) (Because of traversing two lists)"
   ]
  },
  {
   "cell_type": "markdown",
   "metadata": {
    "id": "kjUG5Gg6p4yJ"
   },
   "source": [
    "## Approach 3: Find duplicate number by maintaining a dictionary of elements already present in the list. Dictionary allows for faster comparisons"
   ]
  },
  {
   "cell_type": "code",
   "execution_count": 6,
   "metadata": {
    "id": "GCMHwxIWp2xA"
   },
   "outputs": [],
   "source": [
    "def find_dup_missing(arr):\n",
    "  #find missing\n",
    "    for i in range(min(arr),max(arr)):\n",
    "        if i not in arr:\n",
    "            missing_number=i\n",
    "            break\n",
    "  \n",
    "  #find duplicate number\n",
    "    seen = {}\n",
    "\n",
    "    for x in arr:\n",
    "        if x not in seen:\n",
    "            seen[x] = True\n",
    "        else:\n",
    "            duplicate_number=x\n",
    "            break\n",
    "    return(duplicate_number,missing_number)\n",
    "\n",
    "\n",
    "assert find_dup_missing([6,5,2,4,6])==(6,3)  "
   ]
  },
  {
   "cell_type": "markdown",
   "metadata": {
    "id": "JgXlTWcbsHo0"
   },
   "source": [
    "Auxiliary Space Complexity = O(n)\n",
    "\n",
    "Time Complexity = O(n^2)"
   ]
  },
  {
   "cell_type": "markdown",
   "metadata": {
    "id": "gvccLOiHrKun"
   },
   "source": [
    "## Approach 4: Instead of maintaining an auxiliary data strcuture, checking the duplicate within the same array. "
   ]
  },
  {
   "cell_type": "code",
   "execution_count": 7,
   "metadata": {
    "id": "JAd6RcBWrLNA"
   },
   "outputs": [],
   "source": [
    "def find_dup_missing(arr):\n",
    "#find missing number\n",
    "    for i in range(min(arr),max(arr)+1):\n",
    "        if i not in arr:\n",
    "            missing_number=i\n",
    "            break\n",
    "  \n",
    "  #find duplicate number\n",
    "    for i in range(1, len(arr)):\n",
    "        if arr[i] in arr[:i-1]:\n",
    "            duplicate_number = arr[i]\n",
    "            break\n",
    "    return(duplicate_number,missing_number)\n",
    "\n",
    "assert find_dup_missing([6,5,2,4,6])==(6,3) "
   ]
  },
  {
   "cell_type": "markdown",
   "metadata": {
    "id": "9Da4NtlVrrEP"
   },
   "source": [
    "Auxiliary Space Complexity = O(n) (List Slicing makes a copy of the list)\n",
    "\n",
    "Time Complexity = O(n^2)"
   ]
  },
  {
   "cell_type": "markdown",
   "metadata": {
    "id": "-Rbr1XsWseNr"
   },
   "source": [
    "For the four appraoches, using memory_profiler and time libraries, the auxiliary space and time noted are: (Though the below values depend on a number of factors, they are good for a reasonable comparison)\n",
    "\n",
    "### Approach 1:\n",
    "Auxiliary Space: 11.3476 MiB\n",
    "\n",
    "Time: 0.05242 sec\n",
    "\n",
    "### Approach 2:\n",
    "Auxiliary Space: 0.7695 MiB\n",
    "\n",
    "Time: 99.4166 sec\n",
    "\n",
    "### Approach 3:\n",
    "Auxiliary Space: 8.7617 MiB\n",
    "\n",
    "Time: 41.95215 sec\n",
    "\n",
    "### Approach 4:\n",
    "Auxiliary Space: 10.043 MiB\n",
    "\n",
    "Time: 126.581 sec\n",
    "\n",
    "The values above are computed for a list containing 100000 numbers"
   ]
  }
 ],
 "metadata": {
  "colab": {
   "collapsed_sections": [],
   "name": "Skill Assessment - Gayatri",
   "provenance": []
  },
  "kernelspec": {
   "display_name": "Python 3",
   "language": "python",
   "name": "python3"
  },
  "language_info": {
   "codemirror_mode": {
    "name": "ipython",
    "version": 3
   },
   "file_extension": ".py",
   "mimetype": "text/x-python",
   "name": "python",
   "nbconvert_exporter": "python",
   "pygments_lexer": "ipython3",
   "version": "3.7.3"
  }
 },
 "nbformat": 4,
 "nbformat_minor": 1
}

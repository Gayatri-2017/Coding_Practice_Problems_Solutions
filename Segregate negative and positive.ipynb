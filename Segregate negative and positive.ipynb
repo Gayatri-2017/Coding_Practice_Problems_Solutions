{
 "cells": [
  {
   "cell_type": "markdown",
   "metadata": {
    "id": "bOPr5lNGjJBQ"
   },
   "source": [
    "Given a list of randomly sorted numbers [-1, 3, -15, 11, 2, -9, 2 ], \n",
    "write a function that move all negative numbers to the beginning of the list while the positive to the right and maintaining the order of the positive and the negative. \n",
    "For example, the above list becomes: [-1, -15, -9, 3, 11, 2, 2];"
   ]
  },
  {
   "cell_type": "markdown",
   "metadata": {
    "id": "bp8YUbMFiRgh"
   },
   "source": [
    "Note: The solutions below assume that 0 is positive, hence it will appear after the negative numbers."
   ]
  },
  {
   "cell_type": "markdown",
   "metadata": {
    "id": "tNe90ZEwdnf3"
   },
   "source": [
    "## Approach 1: Segregating the array into two lists for negatives and positives and then joining them"
   ]
  },
  {
   "cell_type": "code",
   "execution_count": 1,
   "metadata": {
    "id": "JtwoZsXDdm5A"
   },
   "outputs": [],
   "source": [
    "def divide_numbers(nums):\n",
    "    positives, negatives = list(), list()\n",
    "    \n",
    "    for num in nums:\n",
    "        if(num<0):\n",
    "            negatives.append(num)\n",
    "        else:\n",
    "            positives.append(num)\n",
    "    \n",
    "    nums = negatives+positives\n",
    "    \n",
    "    return nums\n",
    "\n",
    "assert divide_numbers([-1, 3, -15, 11, 2, -9, 2 ])==[-1, -15, -9, 3, 11, 2, 2]"
   ]
  },
  {
   "cell_type": "markdown",
   "metadata": {
    "id": "n4SXRcOhdqrI"
   },
   "source": [
    "Auxiliary Space Complexity = O(n)\n",
    "\n",
    "Time Complexity = O(n)"
   ]
  },
  {
   "cell_type": "markdown",
   "metadata": {
    "id": "M4FjTBoTehUy"
   },
   "source": [
    "## Approach 2: Using List Comprehension in a more \"Pythonic\" way"
   ]
  },
  {
   "cell_type": "code",
   "execution_count": 2,
   "metadata": {
    "id": "5Q5l6tN84G1c"
   },
   "outputs": [],
   "source": [
    "def divide_numbers(nums):\n",
    "    return([x for x in nums if x < 0] + [y for y in nums if y >= 0])"
   ]
  },
  {
   "cell_type": "markdown",
   "metadata": {
    "id": "FZU15jcid8mi"
   },
   "source": [
    "A more \"Pythonic\" solution, with lesser number of lines, consuming almost the same amount of auxiliary space (or maybe slightly more)\n",
    "\n",
    "Auxiliary Space Complexity = O(n)\n",
    "\n",
    "Time Complexity = O(n)"
   ]
  },
  {
   "cell_type": "markdown",
   "metadata": {
    "id": "pNCazuWiekz3"
   },
   "source": [
    "## Approach 3: Space efficient approach by removing storing the negatives alone in an auxiliary array and removing them from the original list. "
   ]
  },
  {
   "cell_type": "code",
   "execution_count": 3,
   "metadata": {
    "id": "MM5kER4TCHVw"
   },
   "outputs": [],
   "source": [
    "def divide_numbers(nums):\n",
    "    count_pos = 0\n",
    "\n",
    "    # Count the number of positives\n",
    "    for num in nums:\n",
    "        if num >= 0:\n",
    "            count_pos+=1\n",
    "\n",
    "    negatives = []\n",
    "    i=0\n",
    "\n",
    "    # Create a separate list for negatives\n",
    "    while(len(nums)!=count_pos):\n",
    "        if(nums[i]<0):\n",
    "            negatives.append(nums[i])\n",
    "            nums.pop(i)\n",
    "        else:\n",
    "            i+=1\n",
    "\n",
    "    return negatives + nums\n",
    "  \n",
    "assert divide_numbers([-1, 3, -15, 11, 2, -9, 2 ])==[-1, -15, -9, 3, 11, 2, 2]"
   ]
  },
  {
   "cell_type": "markdown",
   "metadata": {
    "id": "E_iwOCJaen_i"
   },
   "source": [
    "A space efficient solution, consuming auxiliary lesser space as the algorithm traverses through the first list. \n",
    "\n",
    "Auxiliary Space Complexity = O(n/2) = O(n)\n",
    "\n",
    "Time Complexity = O(n*n/2) = O(n^2) \n",
    "(Because of pop operation inside the outer for loop)"
   ]
  },
  {
   "cell_type": "markdown",
   "metadata": {
    "id": "hHnF6wZ7hn6Z"
   },
   "source": [
    "\n",
    "For the three appraoches, using memory_profiler and time libraries, the auxiliary space and time noted are: (Though the below values depend on a number of factors, they are good for a reasonable comparison)\n",
    "\n",
    "### Approach 1: \n",
    "\n",
    "Auxiliary Space: 1.539MiB\n",
    "\n",
    "Time: 0.03008 sec\n",
    "\n",
    "### Approach 2: \n",
    "\n",
    "Auxiliary Space: 1.5859MiB\n",
    "\n",
    "Time: 0.02744 sec\n",
    "\n",
    "### Approach 3: \n",
    "\n",
    "Auxiliary Space: 0.8008MiB\n",
    "\n",
    "Time: 0.45854 sec\n",
    "\n",
    "The values above are computed for a list containing 50000 positive + 50000 negative numbers\n"
   ]
  }
 ],
 "metadata": {
  "colab": {
   "collapsed_sections": [],
   "name": "Skill Assessment - Gayatri",
   "provenance": []
  },
  "kernelspec": {
   "display_name": "Python 3",
   "language": "python",
   "name": "python3"
  },
  "language_info": {
   "codemirror_mode": {
    "name": "ipython",
    "version": 3
   },
   "file_extension": ".py",
   "mimetype": "text/x-python",
   "name": "python",
   "nbconvert_exporter": "python",
   "pygments_lexer": "ipython3",
   "version": "3.7.3"
  }
 },
 "nbformat": 4,
 "nbformat_minor": 1
}

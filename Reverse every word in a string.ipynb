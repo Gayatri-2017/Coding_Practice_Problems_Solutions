{
 "cells": [
  {
   "cell_type": "markdown",
   "metadata": {
    "id": "b9KAn1aJuHHV"
   },
   "source": [
    "Given a string that contains a sentence, e.g. \n",
    "\"Tensorflow 2.4 has lots of incompatibility with Tensorflow 2.0\". \n",
    "Write a function that reverses the letters of each word in the sentence. \n",
    "For example: the above sentence becomes \"wolfrosneT 4.2 sah stol fo ytilibitapmocni htiw wolfrosneT 0.2\"; \n",
    "The same as the question above: \n",
    "once you finish the function, make sure to point out the time complexity and space complexity, \n",
    "then see whether you can minimize both complexities. If you can provide more than one solution, it'd be great. "
   ]
  },
  {
   "cell_type": "markdown",
   "metadata": {
    "id": "p7Wxgz9HHyoD"
   },
   "source": [
    "## Approach 1: Reversing each word by traversing through the sentence, detecting a white space, and using slicing techniques for each word"
   ]
  },
  {
   "cell_type": "code",
   "execution_count": 8,
   "metadata": {
    "id": "KTNd9aGXICHE"
   },
   "outputs": [],
   "source": [
    "def reverse_words_in_sen(sen):\n",
    "    \n",
    "    reverse_sentence = ''\n",
    "    word = ''\n",
    "    \n",
    "    for char in sen:\n",
    "        if char != ' ':\n",
    "            word += char\n",
    "        else:\n",
    "            if reverse_sentence != '':\n",
    "                reverse_sentence += \" \" + word[::-1]\n",
    "            else:\n",
    "                reverse_sentence = word[::-1]\n",
    "            word = ''\n",
    "    \n",
    "    if word != '':\n",
    "        reverse_sentence += \" \" + word[::-1]\n",
    "        \n",
    "    return reverse_sentence\n",
    "            \n",
    "\n",
    "assert reverse_words_in_sen(\"Tensorflow 2.4 has lots of incompatibility with Tensorflow 2.0\")==\"wolfrosneT 4.2 sah stol fo ytilibitapmocni htiw wolfrosneT 0.2\"\n",
    "\n"
   ]
  },
  {
   "cell_type": "markdown",
   "metadata": {
    "id": "zJE9IIfz1Zyt"
   },
   "source": [
    "\n",
    "Auxiliary Space Complexity = O(n*k)\n",
    "\n",
    "Time Complexity = O(n)\n",
    "\n",
    "where n = number of whitespaces (or words) in the given sentence\n",
    "k = length of the longest word"
   ]
  },
  {
   "cell_type": "markdown",
   "metadata": {
    "id": "PWsZ0l4RH0Vk"
   },
   "source": [
    "## Approach 2: Pythonic approach"
   ]
  },
  {
   "cell_type": "code",
   "execution_count": 9,
   "metadata": {
    "id": "PNin1HMTG4Ij"
   },
   "outputs": [],
   "source": [
    "def reverse_words_in_sen(sen):\n",
    "    return \" \".join([word[::-1] for word in sen.split(' ')])\n",
    "            \n",
    "assert reverse_words_in_sen(\"Tensorflow 2.4 has lots of incompatibility with Tensorflow 2.0\")==\"wolfrosneT 4.2 sah stol fo ytilibitapmocni htiw wolfrosneT 0.2\"\n",
    "\n"
   ]
  },
  {
   "cell_type": "markdown",
   "metadata": {
    "id": "K1pGh5E93duE"
   },
   "source": [
    "A more \"Pythonic\" solution, with lesser number of lines, consuming almost the approximately the same amount of auxiliary space compared to the Approach 1\n",
    "\n",
    "Auxiliary Space Complexity = O(n*k)\n",
    "\n",
    "Time Complexity = O(n)\n",
    "\n",
    "where n = number of whitespaces (or words) in the given sentence k = length of the longest word"
   ]
  },
  {
   "cell_type": "markdown",
   "metadata": {
    "id": "BFkZSDSiH13F"
   },
   "source": [
    "## Approach 3: Storing the starting and ending index of each word and reversing it. "
   ]
  },
  {
   "cell_type": "code",
   "execution_count": 10,
   "metadata": {
    "id": "Zule4F4qGun0"
   },
   "outputs": [],
   "source": [
    "def reverse_words_in_sen(sen):\n",
    "    word = ''\n",
    "    start_index = 0\n",
    "\n",
    "    for i in range(len(sen)):\n",
    "\n",
    "        current_character = sen[i]\n",
    "        if current_character == ' ':\n",
    "            subset_1, subset_2 = sen[:start_index], sen[i:]\n",
    "            sen = subset_1 + word + subset_2\n",
    "            start_index = i + 1\n",
    "            word = ''\n",
    "        else:\n",
    "            word = current_character + word\n",
    "    \n",
    "    return sen[:start_index] + word\n",
    "            \n",
    "assert reverse_words_in_sen(\"Tensorflow 2.4 has lots of incompatibility with Tensorflow 2.0\")==\"wolfrosneT 4.2 sah stol fo ytilibitapmocni htiw wolfrosneT 0.2\"\n",
    "\n"
   ]
  },
  {
   "cell_type": "markdown",
   "metadata": {
    "id": "h2KcIX5UDzIB"
   },
   "source": [
    "Auxiliary Space Complexity = O(n*k)\n",
    "\n",
    "Time Complexity = O(n^2) (because of slicing inside the for loop)"
   ]
  },
  {
   "cell_type": "markdown",
   "metadata": {
    "id": "0r_Jbq1nGnRi"
   },
   "source": [
    "For the three appraoches, using memory_profiler and time libraries, the auxiliary space and time noted are: (Though the below values depend on a number of factors, they are good for a reasonable comparison)\n",
    "\n",
    "### Approach 1:\n",
    "Auxiliary Space: 5.105469 MiB\n",
    "\n",
    "Time: 0.04602 sec\n",
    "\n",
    "### Approach 2:\n",
    "Auxiliary Space: 4.66015 MiB\n",
    "\n",
    "Time: 0.01467 sec\n",
    "\n",
    "### Approach 3:\n",
    "Auxiliary Space: 4.0195 MiB\n",
    "\n",
    "Time: 2.2787 sec\n",
    "\n",
    "The values above are computed for a list containing 50000 words of length 5 characters each"
   ]
  }
 ],
 "metadata": {
  "colab": {
   "collapsed_sections": [],
   "name": "Skill Assessment - Gayatri",
   "provenance": []
  },
  "kernelspec": {
   "display_name": "Python 3",
   "language": "python",
   "name": "python3"
  },
  "language_info": {
   "codemirror_mode": {
    "name": "ipython",
    "version": 3
   },
   "file_extension": ".py",
   "mimetype": "text/x-python",
   "name": "python",
   "nbconvert_exporter": "python",
   "pygments_lexer": "ipython3",
   "version": "3.7.3"
  }
 },
 "nbformat": 4,
 "nbformat_minor": 1
}
